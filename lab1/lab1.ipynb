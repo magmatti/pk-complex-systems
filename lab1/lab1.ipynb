{
 "cells": [
  {
   "cell_type": "code",
   "execution_count": null,
   "id": "a319ba28",
   "metadata": {},
   "outputs": [],
   "source": [
    "# ---\n",
    "# Oscylator anharmoniczny (Duffinga) z silnym tłumieniem\n",
    "# Równanie ruchu:\n",
    "#     m*q'' + c*q' + k*q + α*q³ = 0\n",
    "# Cel: wykres położenia q(t)\n",
    "# ---\n",
    "\n",
    "import numpy as np\n",
    "import matplotlib.pyplot as plt\n",
    "\n",
    "# --- Parametry fizyczne ---\n",
    "m = 1.0       # masa\n",
    "c = 3.5       # współczynnik tłumienia (duży = silne tłumienie)\n",
    "k = 1.0       # współczynnik sprężystości\n",
    "alpha = 5.0   # współczynnik nieliniowości (anharmoniczność)\n",
    "\n",
    "# --- Warunki początkowe ---\n",
    "q0 = 1.0      # położenie początkowe\n",
    "dq0 = 0.0     # prędkość początkowa\n",
    "\n",
    "# --- Siatka czasu ---\n",
    "t_max = 20.0\n",
    "dt = 0.001\n",
    "t = np.arange(0.0, t_max + dt, dt)\n",
    "\n",
    "# --- Funkcje pomocnicze ---\n",
    "def acc(q, dq):\n",
    "    \"\"\"Przyspieszenie zgodne z równaniem ruchu\"\"\"\n",
    "    return (-c * dq - k * q - alpha * q**3) / m\n",
    "\n",
    "def f(y):\n",
    "    \"\"\"Zwraca pochodne: dq/dt, ddq/dt\"\"\"\n",
    "    q, dq = y\n",
    "    return np.array([dq, acc(q, dq)])\n",
    "\n",
    "# --- Integracja metodą Rungego-Kutty 4 rzędu ---\n",
    "y = np.zeros((len(t), 2))\n",
    "y[0] = [q0, dq0]\n",
    "\n",
    "for i in range(len(t) - 1):\n",
    "    h = dt\n",
    "    k1 = f(y[i])\n",
    "    k2 = f(y[i] + 0.5*h*k1)\n",
    "    k3 = f(y[i] + 0.5*h*k2)\n",
    "    k4 = f(y[i] + h*k3)\n",
    "    y[i+1] = y[i] + (h/6.0)*(k1 + 2*k2 + 2*k3 + k4)\n",
    "\n",
    "# --- Wyniki ---\n",
    "q = y[:, 0]   # położenie\n",
    "dq = y[:, 1]  # prędkość\n",
    "\n",
    "# --- Wykres q(t) ---\n",
    "plt.figure(figsize=(9,5))\n",
    "plt.plot(t, q, color=\"royalblue\", linewidth=1.5)\n",
    "plt.xlabel(\"Czas t [s]\")\n",
    "plt.ylabel(\"Położenie q(t)\")\n",
    "plt.title(\"Oscylator anharmoniczny (silne tłumienie)\\n$m q'' + c q' + k q + \\\\alpha q^3 = 0$\")\n",
    "plt.grid(True, alpha=0.3)\n",
    "plt.tight_layout()\n",
    "plt.show()\n"
   ]
  },
  {
   "cell_type": "code",
   "execution_count": null,
   "id": "a7ebc2d0",
   "metadata": {},
   "outputs": [
    {
     "ename": "",
     "evalue": "",
     "output_type": "error",
     "traceback": [
      "\u001b[1;31mRunning cells with 'Python 3.11.12' requires the ipykernel package.\n",
      "\u001b[1;31m<a href='command:jupyter.createPythonEnvAndSelectController'>Create a Python Environment</a> with the required packages."
     ]
    }
   ],
   "source": [
    "print(\"hello\")"
   ]
  }
 ],
 "metadata": {
  "kernelspec": {
   "display_name": "Python 3",
   "language": "python",
   "name": "python3"
  },
  "language_info": {
   "name": "python",
   "version": "3.11.12"
  }
 },
 "nbformat": 4,
 "nbformat_minor": 5
}
